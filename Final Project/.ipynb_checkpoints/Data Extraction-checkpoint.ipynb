{
 "cells": [
  {
   "cell_type": "markdown",
   "metadata": {},
   "source": [
    "# Data Extraction"
   ]
  },
  {
   "cell_type": "markdown",
   "metadata": {},
   "source": [
    "### This Notebook focuses on extracting the information about the restaurants in Jaipur. The notebook is divided into 3 Phases:  "
   ]
  },
  {
   "cell_type": "markdown",
   "metadata": {},
   "source": [
    "#### [Phase - 1](#phase1): \n",
    "Extract the links for each locality from ZOMATO.\n",
    "#### [Phase - 2](#phase2): \n",
    "Extract the information about each Restaurant from a locality.\n",
    "#### [Phase - 3](#phase3): \n",
    "Geocode the address of the restaurants into latitude and longitudes using Google Geocoding API."
   ]
  },
  {
   "cell_type": "code",
   "execution_count": 1,
   "metadata": {},
   "outputs": [],
   "source": [
    "import pandas as pd\n",
    "import requests\n",
    "from bs4 import BeautifulSoup"
   ]
  },
  {
   "cell_type": "markdown",
   "metadata": {},
   "source": [
    "# Phase - 1 <a name='phase1'></a>\n",
    "**Get the links to all the localities from Zomato**"
   ]
  },
  {
   "cell_type": "code",
   "execution_count": 2,
   "metadata": {},
   "outputs": [],
   "source": [
    "url = 'https://www.zomato.com/jaipur/'\n",
    "headers = {'User-Agent': 'Mozilla/5.0 (Macintosh; Intel Mac OS X 10_11_6) AppleWebKit/537.36 (KHTML, like Gecko) Chrome/61.0.3163.100 Safari/537.36'}\n",
    "response = requests.get(url, headers=headers)\n",
    "soup = BeautifulSoup(response.text, 'html.parser')"
   ]
  },
  {
   "cell_type": "markdown",
   "metadata": {},
   "source": [
    "**We will fetch the names of localities along with their respective urls and store it in a dictionary.**"
   ]
  },
  {
   "cell_type": "code",
   "execution_count": 7,
   "metadata": {},
   "outputs": [],
   "source": [
    "list_ = soup.find_all('section')[2]\n",
    "data = dict()\n",
    "for i in list_.find_all('a'):\n",
    "    link = i.attrs['href']\n",
    "    locality = i.contents[0].string.strip(\"\\n \")\n",
    "    data.update({locality: link})"
   ]
  },
  {
   "cell_type": "code",
   "execution_count": 8,
   "metadata": {},
   "outputs": [
    {
     "data": {
      "text/plain": [
       "{'C Scheme': 'https://www.zomato.com/jaipur/c-scheme-restaurants',\n",
       " 'Malviya Nagar': 'https://www.zomato.com/jaipur/malviya-nagar-restaurants',\n",
       " 'Tonk Road': 'https://www.zomato.com/jaipur/tonk-road-restaurants',\n",
       " 'Vaishali Nagar': 'https://www.zomato.com/jaipur/vaishali-nagar-restaurants',\n",
       " 'MI Road': 'https://www.zomato.com/jaipur/mi-road-restaurants',\n",
       " 'Mansarovar': 'https://www.zomato.com/jaipur/mansarovar-restaurants',\n",
       " 'Raja Park': 'https://www.zomato.com/jaipur/raja-park-restaurants',\n",
       " 'Bani Park': 'https://www.zomato.com/jaipur/bani-park-restaurants',\n",
       " 'Bais Godam': 'https://www.zomato.com/jaipur/bais-godam-restaurants',\n",
       " 'Adarsh Nagar': 'https://www.zomato.com/jaipur/adarsh-nagar-restaurants',\n",
       " 'Ajmer Highway': 'https://www.zomato.com/jaipur/ajmer-highway-restaurants',\n",
       " 'Lal Kothi': 'https://www.zomato.com/jaipur/lal-kothi-restaurants',\n",
       " 'Gopalbari': 'https://www.zomato.com/jaipur/gopalbari-restaurants',\n",
       " 'Sodala': 'https://www.zomato.com/jaipur/sodala-restaurants',\n",
       " 'Shyam Nagar': 'https://www.zomato.com/jaipur/shyam-nagar-restaurants',\n",
       " 'Sindhi Camp': 'https://www.zomato.com/jaipur/sindhi-camp-restaurants',\n",
       " 'Pink City': 'https://www.zomato.com/jaipur/pink-city-restaurants',\n",
       " 'Amer': 'https://www.zomato.com/jaipur/amer-restaurants',\n",
       " 'Civil Lines': 'https://www.zomato.com/jaipur/civil-lines-restaurants',\n",
       " 'Chitrakoot': 'https://www.zomato.com/jaipur/chitrakoot-restaurants',\n",
       " 'Narayan Singh Circle': 'https://www.zomato.com/jaipur/narayan-singh-circle-restaurants',\n",
       " 'Sikar Road': 'https://www.zomato.com/jaipur/sikar-road-restaurants',\n",
       " 'Vidhyadhar Nagar': 'https://www.zomato.com/jaipur/vidhyadhar-nagar-restaurants',\n",
       " 'Bapu Nagar': 'https://www.zomato.com/jaipur/bapu-nagar-restaurants',\n",
       " 'Amer Road': 'https://www.zomato.com/jaipur/amer-road-restaurants',\n",
       " 'Jhotwara': 'https://www.zomato.com/jaipur/jhotwara-restaurants',\n",
       " 'Shastri Nagar': 'https://www.zomato.com/jaipur/shastri-nagar-restaurants',\n",
       " 'Kukas': 'https://www.zomato.com/jaipur/kukas-restaurants',\n",
       " 'Jawahar Nagar': 'https://www.zomato.com/jaipur/jawahar-nagar-restaurants',\n",
       " 'Khatipura Road': 'https://www.zomato.com/jaipur/khatipura-road-restaurants'}"
      ]
     },
     "execution_count": 8,
     "metadata": {},
     "output_type": "execute_result"
    }
   ],
   "source": [
    "data"
   ]
  },
  {
   "cell_type": "markdown",
   "metadata": {},
   "source": [
    "# Phase - 2 <a name='phase2'></a>\n",
    "**Get the details about all the restaurants in a locality.**"
   ]
  },
  {
   "cell_type": "code",
   "execution_count": null,
   "metadata": {},
   "outputs": [],
   "source": []
  },
  {
   "cell_type": "code",
   "execution_count": 9,
   "metadata": {},
   "outputs": [],
   "source": [
    "urlPhase2 = 'https://www.zomato.com/jaipur/c-scheme-restaurants'\n",
    "headers = {'User-Agent': 'Mozilla/5.0 (Macintosh; Intel Mac OS X 10_11_6) AppleWebKit/537.36 (KHTML, like Gecko) Chrome/61.0.3163.100 Safari/537.36'}\n",
    "responsePhase2 = requests.get(urlPhase2, headers=headers)\n",
    "soupPhase2 = BeautifulSoup(responsePhase2.text, 'html.parser')"
   ]
  },
  {
   "cell_type": "markdown",
   "metadata": {},
   "source": [
    "Restaurant Names"
   ]
  },
  {
   "cell_type": "code",
   "execution_count": 144,
   "metadata": {},
   "outputs": [],
   "source": [
    "def getName():\n",
    "    resName = soupPhase2.find_all('a', class_='result-title')\n",
    "    names = []\n",
    "    for i in resName:\n",
    "        names.append(i.string.strip(\"\\n \"))\n",
    "    return names"
   ]
  },
  {
   "cell_type": "markdown",
   "metadata": {},
   "source": [
    "Restaurant Address"
   ]
  },
  {
   "cell_type": "code",
   "execution_count": 143,
   "metadata": {
    "scrolled": true
   },
   "outputs": [],
   "source": [
    "def getAddress():\n",
    "    resAdd = soupPhase2.find_all('div', class_='search-result-address')\n",
    "    address = []\n",
    "    for i in resAdd:\n",
    "        address.append(i.string.strip(\" \"))\n",
    "    return address"
   ]
  },
  {
   "cell_type": "markdown",
   "metadata": {},
   "source": [
    "Restaurant Ratings and Votes"
   ]
  },
  {
   "cell_type": "code",
   "execution_count": 142,
   "metadata": {},
   "outputs": [],
   "source": [
    "def getRateAndVotes():\n",
    "    rate = soupPhase2.find_all('div', class_='search_result_rating')\n",
    "    ratings = []\n",
    "    votes = []\n",
    "    for r in rate:\n",
    "        ratings.append(r.find_all('div', class_='rating-popup')[0].string.strip(\"\\n \"))\n",
    "        votes.append(r.find_all('span')[0].string.strip(\" votes\"))\n",
    "    return ratings, votes"
   ]
  },
  {
   "cell_type": "markdown",
   "metadata": {},
   "source": [
    "Cuisines for each restaurant and Cost for TWO."
   ]
  },
  {
   "cell_type": "code",
   "execution_count": 137,
   "metadata": {},
   "outputs": [],
   "source": [
    "def getCostAndCuisine():\n",
    "    cuiCost = soupPhase2.find_all('div', class_='search-page-text')\n",
    "    cost = []\n",
    "    cuisines = []\n",
    "    for c in cuiCost:\n",
    "        temp = []\n",
    "        cost.append((c.find(class_='res-cost').find(class_='pl0').string))\n",
    "        for item in c.find(class_='clearfix').find_all('a'):\n",
    "            temp.append(item.string.strip(\"\\n \"))\n",
    "        cuisines.append(temp)\n",
    "    return cost, cuisines"
   ]
  },
  {
   "cell_type": "markdown",
   "metadata": {},
   "source": [
    "Get the link of next page for the locality"
   ]
  },
  {
   "cell_type": "code",
   "execution_count": 48,
   "metadata": {},
   "outputs": [
    {
     "data": {
      "text/plain": [
       "'/jaipur/c-scheme-restaurants?page=2'"
      ]
     },
     "execution_count": 48,
     "metadata": {},
     "output_type": "execute_result"
    }
   ],
   "source": [
    "links = soup.find('div', class_='search-pagination-top')\n",
    "nextPage = links.find('a', class_='next')\n",
    "nextPage.attrs['href']"
   ]
  }
 ],
 "metadata": {
  "kernelspec": {
   "display_name": "Python 3",
   "language": "python",
   "name": "python3"
  },
  "language_info": {
   "codemirror_mode": {
    "name": "ipython",
    "version": 3
   },
   "file_extension": ".py",
   "mimetype": "text/x-python",
   "name": "python",
   "nbconvert_exporter": "python",
   "pygments_lexer": "ipython3",
   "version": "3.8.1"
  }
 },
 "nbformat": 4,
 "nbformat_minor": 4
}
