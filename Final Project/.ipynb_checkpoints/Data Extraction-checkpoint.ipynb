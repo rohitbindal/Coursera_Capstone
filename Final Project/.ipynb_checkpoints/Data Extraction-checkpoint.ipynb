{
 "cells": [
  {
   "cell_type": "markdown",
   "metadata": {},
   "source": [
    "# Data Extraction"
   ]
  },
  {
   "cell_type": "markdown",
   "metadata": {},
   "source": [
    "### This Notebook focuses on extracting the information about the restaurants in Jaipur. The notebook is divided into 3 Phases:  "
   ]
  },
  {
   "cell_type": "markdown",
   "metadata": {},
   "source": [
    "#### [Phase - 1](#phase1): \n",
    "Extract the links for each locality from ZOMATO.\n",
    "#### [Phase - 2](#phase2): \n",
    "Extract the information about each Restaurant from a locality.\n",
    "#### [Phase - 3](#phase3): \n",
    "Geocode the address of the restaurants into latitude and longitudes using Google Geocoding API."
   ]
  },
  {
   "cell_type": "code",
   "execution_count": 86,
   "metadata": {},
   "outputs": [],
   "source": [
    "import pandas as pd\n",
    "import requests\n",
    "from bs4 import BeautifulSoup\n",
    "import googlemaps\n",
    "import json"
   ]
  },
  {
   "cell_type": "markdown",
   "metadata": {},
   "source": [
    "# Phase - 1 <a name='phase1'></a>\n",
    "**Get the links to all the localities from Zomato**"
   ]
  },
  {
   "cell_type": "code",
   "execution_count": 87,
   "metadata": {},
   "outputs": [],
   "source": [
    "url = 'https://www.zomato.com/jaipur/'\n",
    "headers = {'User-Agent': 'Mozilla/5.0 (Macintosh; Intel Mac OS X 10_11_6) AppleWebKit/537.36 (KHTML, like Gecko) Chrome/61.0.3163.100 Safari/537.36'}\n",
    "response = requests.get(url, headers=headers)\n",
    "soup = BeautifulSoup(response.text, 'html.parser')"
   ]
  },
  {
   "cell_type": "markdown",
   "metadata": {},
   "source": [
    "**We will fetch the names of localities along with their respective urls and store it in a dictionary.**"
   ]
  },
  {
   "cell_type": "code",
   "execution_count": 88,
   "metadata": {},
   "outputs": [],
   "source": [
    "list_ = soup.find_all('section')[2]\n",
    "data = dict()\n",
    "for i in list_.find_all('a'):\n",
    "    link = i.attrs['href']\n",
    "    locality = i.contents[0].string.strip(\"\\n \")\n",
    "    data.update({locality: link})"
   ]
  },
  {
   "cell_type": "code",
   "execution_count": 89,
   "metadata": {},
   "outputs": [
    {
     "name": "stdout",
     "output_type": "stream",
     "text": [
      "https://www.zomato.com/jaipur/c-scheme-restaurants\n",
      "https://www.zomato.com/jaipur/malviya-nagar-restaurants\n",
      "https://www.zomato.com/jaipur/tonk-road-restaurants\n",
      "https://www.zomato.com/jaipur/vaishali-nagar-restaurants\n",
      "https://www.zomato.com/jaipur/mi-road-restaurants\n",
      "https://www.zomato.com/jaipur/mansarovar-restaurants\n",
      "https://www.zomato.com/jaipur/raja-park-restaurants\n",
      "https://www.zomato.com/jaipur/bani-park-restaurants\n",
      "https://www.zomato.com/jaipur/bais-godam-restaurants\n",
      "https://www.zomato.com/jaipur/adarsh-nagar-restaurants\n",
      "https://www.zomato.com/jaipur/ajmer-highway-restaurants\n",
      "https://www.zomato.com/jaipur/lal-kothi-restaurants\n",
      "https://www.zomato.com/jaipur/gopalbari-restaurants\n",
      "https://www.zomato.com/jaipur/sodala-restaurants\n",
      "https://www.zomato.com/jaipur/shyam-nagar-restaurants\n",
      "https://www.zomato.com/jaipur/sindhi-camp-restaurants\n",
      "https://www.zomato.com/jaipur/pink-city-restaurants\n",
      "https://www.zomato.com/jaipur/amer-restaurants\n",
      "https://www.zomato.com/jaipur/civil-lines-restaurants\n",
      "https://www.zomato.com/jaipur/chitrakoot-restaurants\n",
      "https://www.zomato.com/jaipur/narayan-singh-circle-restaurants\n",
      "https://www.zomato.com/jaipur/sikar-road-restaurants\n",
      "https://www.zomato.com/jaipur/vidhyadhar-nagar-restaurants\n",
      "https://www.zomato.com/jaipur/bapu-nagar-restaurants\n",
      "https://www.zomato.com/jaipur/amer-road-restaurants\n",
      "https://www.zomato.com/jaipur/jhotwara-restaurants\n",
      "https://www.zomato.com/jaipur/shastri-nagar-restaurants\n",
      "https://www.zomato.com/jaipur/kukas-restaurants\n",
      "https://www.zomato.com/jaipur/jawahar-nagar-restaurants\n",
      "https://www.zomato.com/jaipur/khatipura-road-restaurants\n"
     ]
    }
   ],
   "source": [
    "for key in data:\n",
    "    print(data[key])"
   ]
  },
  {
   "cell_type": "markdown",
   "metadata": {},
   "source": [
    "# Phase - 2 <a name='phase2'></a>\n",
    "**Get the details about all the restaurants in a locality.**"
   ]
  },
  {
   "cell_type": "markdown",
   "metadata": {},
   "source": [
    "Restaurant Names and their Category"
   ]
  },
  {
   "cell_type": "code",
   "execution_count": 90,
   "metadata": {},
   "outputs": [],
   "source": [
    "def getName(soup):\n",
    "    resInfo = soup.find_all('article', class_='search-result')\n",
    "    name = [item.find(class_='result-title') for item in resInfo]\n",
    "    name = [item.string.strip(\"\\n \") for item in name]\n",
    "    category = [item.find_all('a',class_='zdark') for item in resInfo]\n",
    "    for index, item in enumerate(category):\n",
    "        for innerIndex, val in enumerate(item):\n",
    "            category[index][innerIndex] = val.string\n",
    "    return name, category"
   ]
  },
  {
   "cell_type": "markdown",
   "metadata": {},
   "source": [
    "Restaurant Address"
   ]
  },
  {
   "cell_type": "code",
   "execution_count": 91,
   "metadata": {
    "scrolled": true
   },
   "outputs": [],
   "source": [
    "def getAddress(soup):\n",
    "    resAdd = soup.find_all('div', class_='search-result-address')\n",
    "    address = []\n",
    "    for i in resAdd:\n",
    "        address.append(i.string.strip(\" \"))\n",
    "    return address"
   ]
  },
  {
   "cell_type": "markdown",
   "metadata": {},
   "source": [
    "Restaurant Ratings and Votes"
   ]
  },
  {
   "cell_type": "code",
   "execution_count": 92,
   "metadata": {},
   "outputs": [],
   "source": [
    "def getRateAndVotes(soup):\n",
    "    rate = soup.find_all('div', class_='search_result_rating')\n",
    "    ratings = []\n",
    "    votes = []\n",
    "    for r in rate:\n",
    "        try:\n",
    "            val = r.find_all('div', class_='rating-popup')[0].string.strip(\"\\n \")\n",
    "            ratings.append(val)\n",
    "            vote = r.find_all('span')[0].string.strip(\" votes\")\n",
    "            votes.append(vote)\n",
    "        except:\n",
    "            votes.append('No-Votes')\n",
    "    return ratings, votes"
   ]
  },
  {
   "cell_type": "markdown",
   "metadata": {},
   "source": [
    "Cuisines for each restaurant and Cost for TWO."
   ]
  },
  {
   "cell_type": "code",
   "execution_count": 93,
   "metadata": {},
   "outputs": [],
   "source": [
    "def getCostAndCuisine(soup):\n",
    "    cuiCost = soup.find_all('div', class_='search-page-text')\n",
    "    cost = []\n",
    "    cuisines = []\n",
    "    for c in cuiCost:\n",
    "        temp = []\n",
    "        try:\n",
    "            for item in c.find(class_='clearfix').find_all('a'):\n",
    "                temp.append(item.string.strip(\"\\n \"))\n",
    "            cuisines.append(temp)\n",
    "            cost.append((c.find(class_='res-cost').find(class_='pl0').string))\n",
    "        except:\n",
    "            cost.append('No Cost given.')\n",
    "    return cost, cuisines"
   ]
  },
  {
   "cell_type": "markdown",
   "metadata": {},
   "source": [
    "Driver Function to extract all the data using the above functions"
   ]
  },
  {
   "cell_type": "code",
   "execution_count": 108,
   "metadata": {},
   "outputs": [],
   "source": [
    "def extractData(headers,loc,key):\n",
    "    urlPhase2 = loc\n",
    "    key = [key]\n",
    "    while True:\n",
    "        responsePhase2 = requests.get(urlPhase2, headers=headers)\n",
    "        soup = BeautifulSoup(responsePhase2.text, 'html.parser')\n",
    "        \n",
    "        tempNames,tempCat = getName(soup)\n",
    "        names.append(tempNames)\n",
    "        category.append(tempCat)\n",
    "        \n",
    "        address.append(getAddress(soup))\n",
    "        \n",
    "        tempRatings, tempVotes = getRateAndVotes(soup)\n",
    "        ratings.append(tempRatings)\n",
    "        votes.append(tempVotes)\n",
    "        \n",
    "        tempCost, tempCuisines = getCostAndCuisine(soup)\n",
    "        costForTwo.append(tempCost)\n",
    "        cuisines.append(tempCuisines)\n",
    "        \n",
    "        locality.append(key*len(tempNames))\n",
    "        \n",
    "#       Look for the link of next page and print it.\n",
    "        links = soup.find('div', class_='search-pagination-top')\n",
    "        print(urlPhase2)\n",
    "        try:\n",
    "            nextPage = links.find('a', class_='next').attrs['href']\n",
    "            urlPhase2 = 'https://www.zomato.com'+nextPage\n",
    "        except: # if the next page does not exists, break out of the loop.\n",
    "            break"
   ]
  },
  {
   "cell_type": "code",
   "execution_count": 109,
   "metadata": {},
   "outputs": [
    {
     "name": "stdout",
     "output_type": "stream",
     "text": [
      "https://www.zomato.com/jaipur/c-scheme-restaurants?nearby=0\n",
      "https://www.zomato.com/jaipur/c-scheme-restaurants?nearby=0&page=2\n",
      "https://www.zomato.com/jaipur/c-scheme-restaurants?nearby=0&page=3\n",
      "https://www.zomato.com/jaipur/c-scheme-restaurants?nearby=0&page=4\n",
      "https://www.zomato.com/jaipur/c-scheme-restaurants?nearby=0&page=5\n",
      "https://www.zomato.com/jaipur/c-scheme-restaurants?nearby=0&page=6\n",
      "https://www.zomato.com/jaipur/c-scheme-restaurants?nearby=0&page=7\n",
      "https://www.zomato.com/jaipur/c-scheme-restaurants?nearby=0&page=8\n",
      "https://www.zomato.com/jaipur/c-scheme-restaurants?nearby=0&page=9\n",
      "https://www.zomato.com/jaipur/c-scheme-restaurants?nearby=0&page=10\n",
      "https://www.zomato.com/jaipur/c-scheme-restaurants?nearby=0&page=11\n",
      "https://www.zomato.com/jaipur/c-scheme-restaurants?nearby=0&page=12\n",
      "https://www.zomato.com/jaipur/c-scheme-restaurants?nearby=0&page=13\n",
      "https://www.zomato.com/jaipur/c-scheme-restaurants?nearby=0&page=14\n",
      "https://www.zomato.com/jaipur/c-scheme-restaurants?nearby=0&page=15\n",
      "C Scheme\n",
      "https://www.zomato.com/jaipur/malviya-nagar-restaurants?nearby=0\n",
      "https://www.zomato.com/jaipur/malviya-nagar-restaurants?nearby=0&page=2\n",
      "https://www.zomato.com/jaipur/malviya-nagar-restaurants?nearby=0&page=3\n",
      "https://www.zomato.com/jaipur/malviya-nagar-restaurants?nearby=0&page=4\n",
      "https://www.zomato.com/jaipur/malviya-nagar-restaurants?nearby=0&page=5\n",
      "https://www.zomato.com/jaipur/malviya-nagar-restaurants?nearby=0&page=6\n",
      "https://www.zomato.com/jaipur/malviya-nagar-restaurants?nearby=0&page=7\n",
      "https://www.zomato.com/jaipur/malviya-nagar-restaurants?nearby=0&page=8\n",
      "https://www.zomato.com/jaipur/malviya-nagar-restaurants?nearby=0&page=9\n",
      "https://www.zomato.com/jaipur/malviya-nagar-restaurants?nearby=0&page=10\n",
      "https://www.zomato.com/jaipur/malviya-nagar-restaurants?nearby=0&page=11\n",
      "https://www.zomato.com/jaipur/malviya-nagar-restaurants?nearby=0&page=12\n",
      "https://www.zomato.com/jaipur/malviya-nagar-restaurants?nearby=0&page=13\n",
      "https://www.zomato.com/jaipur/malviya-nagar-restaurants?nearby=0&page=14\n",
      "https://www.zomato.com/jaipur/malviya-nagar-restaurants?nearby=0&page=15\n",
      "https://www.zomato.com/jaipur/malviya-nagar-restaurants?nearby=0&page=16\n",
      "https://www.zomato.com/jaipur/malviya-nagar-restaurants?nearby=0&page=17\n",
      "https://www.zomato.com/jaipur/malviya-nagar-restaurants?nearby=0&page=18\n",
      "https://www.zomato.com/jaipur/malviya-nagar-restaurants?nearby=0&page=19\n",
      "https://www.zomato.com/jaipur/malviya-nagar-restaurants?nearby=0&page=20\n",
      "https://www.zomato.com/jaipur/malviya-nagar-restaurants?nearby=0&page=21\n",
      "https://www.zomato.com/jaipur/malviya-nagar-restaurants?nearby=0&page=22\n",
      "https://www.zomato.com/jaipur/malviya-nagar-restaurants?nearby=0&page=23\n",
      "https://www.zomato.com/jaipur/malviya-nagar-restaurants?nearby=0&page=24\n",
      "https://www.zomato.com/jaipur/malviya-nagar-restaurants?nearby=0&page=25\n",
      "https://www.zomato.com/jaipur/malviya-nagar-restaurants?nearby=0&page=26\n",
      "https://www.zomato.com/jaipur/malviya-nagar-restaurants?nearby=0&page=27\n",
      "https://www.zomato.com/jaipur/malviya-nagar-restaurants?nearby=0&page=28\n",
      "https://www.zomato.com/jaipur/malviya-nagar-restaurants?nearby=0&page=29\n",
      "https://www.zomato.com/jaipur/malviya-nagar-restaurants?nearby=0&page=30\n",
      "https://www.zomato.com/jaipur/malviya-nagar-restaurants?nearby=0&page=31\n",
      "https://www.zomato.com/jaipur/malviya-nagar-restaurants?nearby=0&page=32\n",
      "https://www.zomato.com/jaipur/malviya-nagar-restaurants?nearby=0&page=33\n",
      "https://www.zomato.com/jaipur/malviya-nagar-restaurants?nearby=0&page=34\n",
      "https://www.zomato.com/jaipur/malviya-nagar-restaurants?nearby=0&page=35\n",
      "https://www.zomato.com/jaipur/malviya-nagar-restaurants?nearby=0&page=36\n",
      "Malviya Nagar\n",
      "https://www.zomato.com/jaipur/tonk-road-restaurants?nearby=0\n",
      "https://www.zomato.com/jaipur/tonk-road-restaurants?nearby=0&page=2\n",
      "https://www.zomato.com/jaipur/tonk-road-restaurants?nearby=0&page=3\n",
      "https://www.zomato.com/jaipur/tonk-road-restaurants?nearby=0&page=4\n",
      "https://www.zomato.com/jaipur/tonk-road-restaurants?nearby=0&page=5\n",
      "https://www.zomato.com/jaipur/tonk-road-restaurants?nearby=0&page=6\n",
      "https://www.zomato.com/jaipur/tonk-road-restaurants?nearby=0&page=7\n",
      "https://www.zomato.com/jaipur/tonk-road-restaurants?nearby=0&page=8\n",
      "https://www.zomato.com/jaipur/tonk-road-restaurants?nearby=0&page=9\n",
      "https://www.zomato.com/jaipur/tonk-road-restaurants?nearby=0&page=10\n",
      "https://www.zomato.com/jaipur/tonk-road-restaurants?nearby=0&page=11\n",
      "https://www.zomato.com/jaipur/tonk-road-restaurants?nearby=0&page=12\n",
      "https://www.zomato.com/jaipur/tonk-road-restaurants?nearby=0&page=13\n",
      "https://www.zomato.com/jaipur/tonk-road-restaurants?nearby=0&page=14\n",
      "https://www.zomato.com/jaipur/tonk-road-restaurants?nearby=0&page=15\n",
      "https://www.zomato.com/jaipur/tonk-road-restaurants?nearby=0&page=16\n",
      "https://www.zomato.com/jaipur/tonk-road-restaurants?nearby=0&page=17\n",
      "https://www.zomato.com/jaipur/tonk-road-restaurants?nearby=0&page=18\n",
      "https://www.zomato.com/jaipur/tonk-road-restaurants?nearby=0&page=19\n",
      "https://www.zomato.com/jaipur/tonk-road-restaurants?nearby=0&page=20\n",
      "https://www.zomato.com/jaipur/tonk-road-restaurants?nearby=0&page=21\n",
      "https://www.zomato.com/jaipur/tonk-road-restaurants?nearby=0&page=22\n",
      "https://www.zomato.com/jaipur/tonk-road-restaurants?nearby=0&page=23\n",
      "https://www.zomato.com/jaipur/tonk-road-restaurants?nearby=0&page=24\n",
      "https://www.zomato.com/jaipur/tonk-road-restaurants?nearby=0&page=25\n",
      "https://www.zomato.com/jaipur/tonk-road-restaurants?nearby=0&page=26\n",
      "https://www.zomato.com/jaipur/tonk-road-restaurants?nearby=0&page=27\n",
      "https://www.zomato.com/jaipur/tonk-road-restaurants?nearby=0&page=28\n",
      "https://www.zomato.com/jaipur/tonk-road-restaurants?nearby=0&page=29\n",
      "https://www.zomato.com/jaipur/tonk-road-restaurants?nearby=0&page=30\n",
      "https://www.zomato.com/jaipur/tonk-road-restaurants?nearby=0&page=31\n",
      "https://www.zomato.com/jaipur/tonk-road-restaurants?nearby=0&page=32\n",
      "https://www.zomato.com/jaipur/tonk-road-restaurants?nearby=0&page=33\n",
      "https://www.zomato.com/jaipur/tonk-road-restaurants?nearby=0&page=34\n",
      "https://www.zomato.com/jaipur/tonk-road-restaurants?nearby=0&page=35\n",
      "https://www.zomato.com/jaipur/tonk-road-restaurants?nearby=0&page=36\n",
      "https://www.zomato.com/jaipur/tonk-road-restaurants?nearby=0&page=37\n",
      "https://www.zomato.com/jaipur/tonk-road-restaurants?nearby=0&page=38\n",
      "Tonk Road\n",
      "https://www.zomato.com/jaipur/vaishali-nagar-restaurants?nearby=0\n",
      "https://www.zomato.com/jaipur/vaishali-nagar-restaurants?nearby=0&page=2\n",
      "https://www.zomato.com/jaipur/vaishali-nagar-restaurants?nearby=0&page=3\n",
      "https://www.zomato.com/jaipur/vaishali-nagar-restaurants?nearby=0&page=4\n",
      "https://www.zomato.com/jaipur/vaishali-nagar-restaurants?nearby=0&page=5\n",
      "https://www.zomato.com/jaipur/vaishali-nagar-restaurants?nearby=0&page=6\n",
      "https://www.zomato.com/jaipur/vaishali-nagar-restaurants?nearby=0&page=7\n",
      "https://www.zomato.com/jaipur/vaishali-nagar-restaurants?nearby=0&page=8\n",
      "https://www.zomato.com/jaipur/vaishali-nagar-restaurants?nearby=0&page=9\n",
      "https://www.zomato.com/jaipur/vaishali-nagar-restaurants?nearby=0&page=10\n",
      "https://www.zomato.com/jaipur/vaishali-nagar-restaurants?nearby=0&page=11\n",
      "https://www.zomato.com/jaipur/vaishali-nagar-restaurants?nearby=0&page=12\n",
      "https://www.zomato.com/jaipur/vaishali-nagar-restaurants?nearby=0&page=13\n",
      "https://www.zomato.com/jaipur/vaishali-nagar-restaurants?nearby=0&page=14\n",
      "https://www.zomato.com/jaipur/vaishali-nagar-restaurants?nearby=0&page=15\n",
      "https://www.zomato.com/jaipur/vaishali-nagar-restaurants?nearby=0&page=16\n",
      "https://www.zomato.com/jaipur/vaishali-nagar-restaurants?nearby=0&page=17\n",
      "https://www.zomato.com/jaipur/vaishali-nagar-restaurants?nearby=0&page=18\n",
      "https://www.zomato.com/jaipur/vaishali-nagar-restaurants?nearby=0&page=19\n",
      "https://www.zomato.com/jaipur/vaishali-nagar-restaurants?nearby=0&page=20\n",
      "https://www.zomato.com/jaipur/vaishali-nagar-restaurants?nearby=0&page=21\n",
      "Vaishali Nagar\n",
      "https://www.zomato.com/jaipur/mi-road-restaurants?nearby=0\n",
      "https://www.zomato.com/jaipur/mi-road-restaurants?nearby=0&page=2\n",
      "https://www.zomato.com/jaipur/mi-road-restaurants?nearby=0&page=3\n",
      "https://www.zomato.com/jaipur/mi-road-restaurants?nearby=0&page=4\n",
      "https://www.zomato.com/jaipur/mi-road-restaurants?nearby=0&page=5\n",
      "https://www.zomato.com/jaipur/mi-road-restaurants?nearby=0&page=6\n"
     ]
    },
    {
     "name": "stdout",
     "output_type": "stream",
     "text": [
      "https://www.zomato.com/jaipur/mi-road-restaurants?nearby=0&page=7\n",
      "https://www.zomato.com/jaipur/mi-road-restaurants?nearby=0&page=8\n",
      "MI Road\n",
      "https://www.zomato.com/jaipur/mansarovar-restaurants?nearby=0\n",
      "https://www.zomato.com/jaipur/mansarovar-restaurants?nearby=0&page=2\n",
      "https://www.zomato.com/jaipur/mansarovar-restaurants?nearby=0&page=3\n",
      "https://www.zomato.com/jaipur/mansarovar-restaurants?nearby=0&page=4\n",
      "https://www.zomato.com/jaipur/mansarovar-restaurants?nearby=0&page=5\n",
      "https://www.zomato.com/jaipur/mansarovar-restaurants?nearby=0&page=6\n",
      "https://www.zomato.com/jaipur/mansarovar-restaurants?nearby=0&page=7\n",
      "https://www.zomato.com/jaipur/mansarovar-restaurants?nearby=0&page=8\n",
      "https://www.zomato.com/jaipur/mansarovar-restaurants?nearby=0&page=9\n",
      "https://www.zomato.com/jaipur/mansarovar-restaurants?nearby=0&page=10\n",
      "https://www.zomato.com/jaipur/mansarovar-restaurants?nearby=0&page=11\n",
      "https://www.zomato.com/jaipur/mansarovar-restaurants?nearby=0&page=12\n",
      "https://www.zomato.com/jaipur/mansarovar-restaurants?nearby=0&page=13\n",
      "https://www.zomato.com/jaipur/mansarovar-restaurants?nearby=0&page=14\n",
      "https://www.zomato.com/jaipur/mansarovar-restaurants?nearby=0&page=15\n",
      "https://www.zomato.com/jaipur/mansarovar-restaurants?nearby=0&page=16\n",
      "https://www.zomato.com/jaipur/mansarovar-restaurants?nearby=0&page=17\n",
      "https://www.zomato.com/jaipur/mansarovar-restaurants?nearby=0&page=18\n",
      "https://www.zomato.com/jaipur/mansarovar-restaurants?nearby=0&page=19\n",
      "https://www.zomato.com/jaipur/mansarovar-restaurants?nearby=0&page=20\n",
      "https://www.zomato.com/jaipur/mansarovar-restaurants?nearby=0&page=21\n",
      "https://www.zomato.com/jaipur/mansarovar-restaurants?nearby=0&page=22\n",
      "https://www.zomato.com/jaipur/mansarovar-restaurants?nearby=0&page=23\n",
      "https://www.zomato.com/jaipur/mansarovar-restaurants?nearby=0&page=24\n",
      "https://www.zomato.com/jaipur/mansarovar-restaurants?nearby=0&page=25\n",
      "https://www.zomato.com/jaipur/mansarovar-restaurants?nearby=0&page=26\n",
      "https://www.zomato.com/jaipur/mansarovar-restaurants?nearby=0&page=27\n",
      "https://www.zomato.com/jaipur/mansarovar-restaurants?nearby=0&page=28\n",
      "https://www.zomato.com/jaipur/mansarovar-restaurants?nearby=0&page=29\n",
      "https://www.zomato.com/jaipur/mansarovar-restaurants?nearby=0&page=30\n",
      "https://www.zomato.com/jaipur/mansarovar-restaurants?nearby=0&page=31\n",
      "https://www.zomato.com/jaipur/mansarovar-restaurants?nearby=0&page=32\n",
      "https://www.zomato.com/jaipur/mansarovar-restaurants?nearby=0&page=33\n",
      "https://www.zomato.com/jaipur/mansarovar-restaurants?nearby=0&page=34\n",
      "https://www.zomato.com/jaipur/mansarovar-restaurants?nearby=0&page=35\n",
      "https://www.zomato.com/jaipur/mansarovar-restaurants?nearby=0&page=36\n",
      "https://www.zomato.com/jaipur/mansarovar-restaurants?nearby=0&page=37\n",
      "https://www.zomato.com/jaipur/mansarovar-restaurants?nearby=0&page=38\n",
      "https://www.zomato.com/jaipur/mansarovar-restaurants?nearby=0&page=39\n",
      "https://www.zomato.com/jaipur/mansarovar-restaurants?nearby=0&page=40\n",
      "https://www.zomato.com/jaipur/mansarovar-restaurants?nearby=0&page=41\n",
      "Mansarovar\n",
      "https://www.zomato.com/jaipur/raja-park-restaurants?nearby=0\n",
      "https://www.zomato.com/jaipur/raja-park-restaurants?nearby=0&page=2\n",
      "https://www.zomato.com/jaipur/raja-park-restaurants?nearby=0&page=3\n",
      "https://www.zomato.com/jaipur/raja-park-restaurants?nearby=0&page=4\n",
      "https://www.zomato.com/jaipur/raja-park-restaurants?nearby=0&page=5\n",
      "https://www.zomato.com/jaipur/raja-park-restaurants?nearby=0&page=6\n",
      "https://www.zomato.com/jaipur/raja-park-restaurants?nearby=0&page=7\n",
      "https://www.zomato.com/jaipur/raja-park-restaurants?nearby=0&page=8\n",
      "https://www.zomato.com/jaipur/raja-park-restaurants?nearby=0&page=9\n",
      "https://www.zomato.com/jaipur/raja-park-restaurants?nearby=0&page=10\n",
      "https://www.zomato.com/jaipur/raja-park-restaurants?nearby=0&page=11\n",
      "https://www.zomato.com/jaipur/raja-park-restaurants?nearby=0&page=12\n",
      "https://www.zomato.com/jaipur/raja-park-restaurants?nearby=0&page=13\n",
      "https://www.zomato.com/jaipur/raja-park-restaurants?nearby=0&page=14\n",
      "https://www.zomato.com/jaipur/raja-park-restaurants?nearby=0&page=15\n",
      "Raja Park\n",
      "https://www.zomato.com/jaipur/bani-park-restaurants?nearby=0\n",
      "https://www.zomato.com/jaipur/bani-park-restaurants?nearby=0&page=2\n",
      "https://www.zomato.com/jaipur/bani-park-restaurants?nearby=0&page=3\n",
      "https://www.zomato.com/jaipur/bani-park-restaurants?nearby=0&page=4\n",
      "https://www.zomato.com/jaipur/bani-park-restaurants?nearby=0&page=5\n",
      "https://www.zomato.com/jaipur/bani-park-restaurants?nearby=0&page=6\n",
      "https://www.zomato.com/jaipur/bani-park-restaurants?nearby=0&page=7\n",
      "Bani Park\n",
      "https://www.zomato.com/jaipur/bais-godam-restaurants?nearby=0\n",
      "https://www.zomato.com/jaipur/bais-godam-restaurants?nearby=0&page=2\n",
      "https://www.zomato.com/jaipur/bais-godam-restaurants?nearby=0&page=3\n",
      "https://www.zomato.com/jaipur/bais-godam-restaurants?nearby=0&page=4\n",
      "https://www.zomato.com/jaipur/bais-godam-restaurants?nearby=0&page=5\n",
      "https://www.zomato.com/jaipur/bais-godam-restaurants?nearby=0&page=6\n",
      "Bais Godam\n",
      "https://www.zomato.com/jaipur/adarsh-nagar-restaurants?nearby=0\n",
      "https://www.zomato.com/jaipur/adarsh-nagar-restaurants?nearby=0&page=2\n",
      "https://www.zomato.com/jaipur/adarsh-nagar-restaurants?nearby=0&page=3\n",
      "https://www.zomato.com/jaipur/adarsh-nagar-restaurants?nearby=0&page=4\n",
      "https://www.zomato.com/jaipur/adarsh-nagar-restaurants?nearby=0&page=5\n",
      "https://www.zomato.com/jaipur/adarsh-nagar-restaurants?nearby=0&page=6\n",
      "Adarsh Nagar\n",
      "https://www.zomato.com/jaipur/ajmer-highway-restaurants?nearby=0\n",
      "https://www.zomato.com/jaipur/ajmer-highway-restaurants?nearby=0&page=2\n",
      "https://www.zomato.com/jaipur/ajmer-highway-restaurants?nearby=0&page=3\n",
      "https://www.zomato.com/jaipur/ajmer-highway-restaurants?nearby=0&page=4\n",
      "https://www.zomato.com/jaipur/ajmer-highway-restaurants?nearby=0&page=5\n",
      "https://www.zomato.com/jaipur/ajmer-highway-restaurants?nearby=0&page=6\n",
      "https://www.zomato.com/jaipur/ajmer-highway-restaurants?nearby=0&page=7\n",
      "Ajmer Highway\n",
      "https://www.zomato.com/jaipur/lal-kothi-restaurants?nearby=0\n",
      "https://www.zomato.com/jaipur/lal-kothi-restaurants?nearby=0&page=2\n",
      "https://www.zomato.com/jaipur/lal-kothi-restaurants?nearby=0&page=3\n",
      "https://www.zomato.com/jaipur/lal-kothi-restaurants?nearby=0&page=4\n",
      "https://www.zomato.com/jaipur/lal-kothi-restaurants?nearby=0&page=5\n",
      "https://www.zomato.com/jaipur/lal-kothi-restaurants?nearby=0&page=6\n",
      "Lal Kothi\n",
      "https://www.zomato.com/jaipur/gopalbari-restaurants?nearby=0\n",
      "https://www.zomato.com/jaipur/gopalbari-restaurants?nearby=0&page=2\n",
      "https://www.zomato.com/jaipur/gopalbari-restaurants?nearby=0&page=3\n",
      "Gopalbari\n",
      "https://www.zomato.com/jaipur/sodala-restaurants?nearby=0\n",
      "https://www.zomato.com/jaipur/sodala-restaurants?nearby=0&page=2\n",
      "https://www.zomato.com/jaipur/sodala-restaurants?nearby=0&page=3\n",
      "https://www.zomato.com/jaipur/sodala-restaurants?nearby=0&page=4\n",
      "https://www.zomato.com/jaipur/sodala-restaurants?nearby=0&page=5\n",
      "https://www.zomato.com/jaipur/sodala-restaurants?nearby=0&page=6\n",
      "https://www.zomato.com/jaipur/sodala-restaurants?nearby=0&page=7\n",
      "https://www.zomato.com/jaipur/sodala-restaurants?nearby=0&page=8\n",
      "https://www.zomato.com/jaipur/sodala-restaurants?nearby=0&page=9\n",
      "https://www.zomato.com/jaipur/sodala-restaurants?nearby=0&page=10\n",
      "Sodala\n",
      "https://www.zomato.com/jaipur/shyam-nagar-restaurants?nearby=0\n",
      "https://www.zomato.com/jaipur/shyam-nagar-restaurants?nearby=0&page=2\n",
      "https://www.zomato.com/jaipur/shyam-nagar-restaurants?nearby=0&page=3\n",
      "https://www.zomato.com/jaipur/shyam-nagar-restaurants?nearby=0&page=4\n",
      "https://www.zomato.com/jaipur/shyam-nagar-restaurants?nearby=0&page=5\n",
      "https://www.zomato.com/jaipur/shyam-nagar-restaurants?nearby=0&page=6\n",
      "https://www.zomato.com/jaipur/shyam-nagar-restaurants?nearby=0&page=7\n",
      "https://www.zomato.com/jaipur/shyam-nagar-restaurants?nearby=0&page=8\n",
      "https://www.zomato.com/jaipur/shyam-nagar-restaurants?nearby=0&page=9\n",
      "https://www.zomato.com/jaipur/shyam-nagar-restaurants?nearby=0&page=10\n",
      "https://www.zomato.com/jaipur/shyam-nagar-restaurants?nearby=0&page=11\n",
      "Shyam Nagar\n",
      "https://www.zomato.com/jaipur/sindhi-camp-restaurants?nearby=0\n",
      "https://www.zomato.com/jaipur/sindhi-camp-restaurants?nearby=0&page=2\n",
      "https://www.zomato.com/jaipur/sindhi-camp-restaurants?nearby=0&page=3\n",
      "https://www.zomato.com/jaipur/sindhi-camp-restaurants?nearby=0&page=4\n"
     ]
    },
    {
     "name": "stdout",
     "output_type": "stream",
     "text": [
      "https://www.zomato.com/jaipur/sindhi-camp-restaurants?nearby=0&page=5\n",
      "Sindhi Camp\n",
      "https://www.zomato.com/jaipur/pink-city-restaurants?nearby=0\n",
      "https://www.zomato.com/jaipur/pink-city-restaurants?nearby=0&page=2\n",
      "https://www.zomato.com/jaipur/pink-city-restaurants?nearby=0&page=3\n",
      "https://www.zomato.com/jaipur/pink-city-restaurants?nearby=0&page=4\n",
      "https://www.zomato.com/jaipur/pink-city-restaurants?nearby=0&page=5\n",
      "https://www.zomato.com/jaipur/pink-city-restaurants?nearby=0&page=6\n",
      "https://www.zomato.com/jaipur/pink-city-restaurants?nearby=0&page=7\n",
      "https://www.zomato.com/jaipur/pink-city-restaurants?nearby=0&page=8\n",
      "https://www.zomato.com/jaipur/pink-city-restaurants?nearby=0&page=9\n",
      "https://www.zomato.com/jaipur/pink-city-restaurants?nearby=0&page=10\n",
      "https://www.zomato.com/jaipur/pink-city-restaurants?nearby=0&page=11\n",
      "https://www.zomato.com/jaipur/pink-city-restaurants?nearby=0&page=12\n",
      "Pink City\n",
      "https://www.zomato.com/jaipur/amer-restaurants?nearby=0\n",
      "https://www.zomato.com/jaipur/amer-restaurants?nearby=0&page=2\n",
      "Amer\n",
      "https://www.zomato.com/jaipur/civil-lines-restaurants?nearby=0\n",
      "https://www.zomato.com/jaipur/civil-lines-restaurants?nearby=0&page=2\n",
      "Civil Lines\n",
      "https://www.zomato.com/jaipur/chitrakoot-restaurants?nearby=0\n",
      "https://www.zomato.com/jaipur/chitrakoot-restaurants?nearby=0&page=2\n",
      "https://www.zomato.com/jaipur/chitrakoot-restaurants?nearby=0&page=3\n",
      "https://www.zomato.com/jaipur/chitrakoot-restaurants?nearby=0&page=4\n",
      "https://www.zomato.com/jaipur/chitrakoot-restaurants?nearby=0&page=5\n",
      "https://www.zomato.com/jaipur/chitrakoot-restaurants?nearby=0&page=6\n",
      "https://www.zomato.com/jaipur/chitrakoot-restaurants?nearby=0&page=7\n",
      "Chitrakoot\n",
      "https://www.zomato.com/jaipur/narayan-singh-circle-restaurants?nearby=0\n",
      "Narayan Singh Circle\n",
      "https://www.zomato.com/jaipur/sikar-road-restaurants?nearby=0\n",
      "https://www.zomato.com/jaipur/sikar-road-restaurants?nearby=0&page=2\n",
      "https://www.zomato.com/jaipur/sikar-road-restaurants?nearby=0&page=3\n",
      "https://www.zomato.com/jaipur/sikar-road-restaurants?nearby=0&page=4\n",
      "https://www.zomato.com/jaipur/sikar-road-restaurants?nearby=0&page=5\n",
      "https://www.zomato.com/jaipur/sikar-road-restaurants?nearby=0&page=6\n",
      "https://www.zomato.com/jaipur/sikar-road-restaurants?nearby=0&page=7\n",
      "https://www.zomato.com/jaipur/sikar-road-restaurants?nearby=0&page=8\n",
      "Sikar Road\n",
      "https://www.zomato.com/jaipur/vidhyadhar-nagar-restaurants?nearby=0\n",
      "https://www.zomato.com/jaipur/vidhyadhar-nagar-restaurants?nearby=0&page=2\n",
      "https://www.zomato.com/jaipur/vidhyadhar-nagar-restaurants?nearby=0&page=3\n",
      "https://www.zomato.com/jaipur/vidhyadhar-nagar-restaurants?nearby=0&page=4\n",
      "https://www.zomato.com/jaipur/vidhyadhar-nagar-restaurants?nearby=0&page=5\n",
      "https://www.zomato.com/jaipur/vidhyadhar-nagar-restaurants?nearby=0&page=6\n",
      "https://www.zomato.com/jaipur/vidhyadhar-nagar-restaurants?nearby=0&page=7\n",
      "https://www.zomato.com/jaipur/vidhyadhar-nagar-restaurants?nearby=0&page=8\n",
      "https://www.zomato.com/jaipur/vidhyadhar-nagar-restaurants?nearby=0&page=9\n",
      "Vidhyadhar Nagar\n",
      "https://www.zomato.com/jaipur/bapu-nagar-restaurants?nearby=0\n",
      "https://www.zomato.com/jaipur/bapu-nagar-restaurants?nearby=0&page=2\n",
      "Bapu Nagar\n",
      "https://www.zomato.com/jaipur/amer-road-restaurants?nearby=0\n",
      "https://www.zomato.com/jaipur/amer-road-restaurants?nearby=0&page=2\n",
      "https://www.zomato.com/jaipur/amer-road-restaurants?nearby=0&page=3\n",
      "https://www.zomato.com/jaipur/amer-road-restaurants?nearby=0&page=4\n",
      "https://www.zomato.com/jaipur/amer-road-restaurants?nearby=0&page=5\n",
      "Amer Road\n",
      "https://www.zomato.com/jaipur/jhotwara-restaurants?nearby=0\n",
      "https://www.zomato.com/jaipur/jhotwara-restaurants?nearby=0&page=2\n",
      "https://www.zomato.com/jaipur/jhotwara-restaurants?nearby=0&page=3\n",
      "https://www.zomato.com/jaipur/jhotwara-restaurants?nearby=0&page=4\n",
      "https://www.zomato.com/jaipur/jhotwara-restaurants?nearby=0&page=5\n",
      "https://www.zomato.com/jaipur/jhotwara-restaurants?nearby=0&page=6\n",
      "https://www.zomato.com/jaipur/jhotwara-restaurants?nearby=0&page=7\n",
      "https://www.zomato.com/jaipur/jhotwara-restaurants?nearby=0&page=8\n",
      "https://www.zomato.com/jaipur/jhotwara-restaurants?nearby=0&page=9\n",
      "https://www.zomato.com/jaipur/jhotwara-restaurants?nearby=0&page=10\n",
      "https://www.zomato.com/jaipur/jhotwara-restaurants?nearby=0&page=11\n",
      "https://www.zomato.com/jaipur/jhotwara-restaurants?nearby=0&page=12\n",
      "Jhotwara\n",
      "https://www.zomato.com/jaipur/shastri-nagar-restaurants?nearby=0\n",
      "https://www.zomato.com/jaipur/shastri-nagar-restaurants?nearby=0&page=2\n",
      "https://www.zomato.com/jaipur/shastri-nagar-restaurants?nearby=0&page=3\n",
      "https://www.zomato.com/jaipur/shastri-nagar-restaurants?nearby=0&page=4\n",
      "https://www.zomato.com/jaipur/shastri-nagar-restaurants?nearby=0&page=5\n",
      "Shastri Nagar\n",
      "https://www.zomato.com/jaipur/kukas-restaurants?nearby=0\n",
      "https://www.zomato.com/jaipur/kukas-restaurants?nearby=0&page=2\n",
      "Kukas\n",
      "https://www.zomato.com/jaipur/jawahar-nagar-restaurants?nearby=0\n",
      "https://www.zomato.com/jaipur/jawahar-nagar-restaurants?nearby=0&page=2\n",
      "https://www.zomato.com/jaipur/jawahar-nagar-restaurants?nearby=0&page=3\n",
      "https://www.zomato.com/jaipur/jawahar-nagar-restaurants?nearby=0&page=4\n",
      "Jawahar Nagar\n",
      "https://www.zomato.com/jaipur/khatipura-road-restaurants?nearby=0\n",
      "https://www.zomato.com/jaipur/khatipura-road-restaurants?nearby=0&page=2\n",
      "https://www.zomato.com/jaipur/khatipura-road-restaurants?nearby=0&page=3\n",
      "https://www.zomato.com/jaipur/khatipura-road-restaurants?nearby=0&page=4\n",
      "https://www.zomato.com/jaipur/khatipura-road-restaurants?nearby=0&page=5\n",
      "https://www.zomato.com/jaipur/khatipura-road-restaurants?nearby=0&page=6\n",
      "Khatipura Road\n"
     ]
    }
   ],
   "source": [
    "names=[]\n",
    "address=[]\n",
    "category=[]\n",
    "votes=[]\n",
    "ratings=[]\n",
    "costForTwo=[]\n",
    "cuisines=[]\n",
    "locality=[]\n",
    "headers = {'User-Agent': 'Mozilla/5.0 (Macintosh; Intel Mac OS X 10_11_6) AppleWebKit/537.36 (KHTML, like Gecko) Chrome/61.0.3163.100 Safari/537.36'}\n",
    "for key in data:\n",
    "    url = data[key]+'?nearby=0'\n",
    "    extractData(headers,url,key)\n",
    "    print(key)"
   ]
  },
  {
   "cell_type": "code",
   "execution_count": 111,
   "metadata": {},
   "outputs": [
    {
     "data": {
      "text/plain": [
       "312"
      ]
     },
     "execution_count": 111,
     "metadata": {},
     "output_type": "execute_result"
    }
   ],
   "source": [
    "len(locality)"
   ]
  },
  {
   "cell_type": "markdown",
   "metadata": {},
   "source": [
    "The results are list of lists, to proceed further, we must flatten them out"
   ]
  },
  {
   "cell_type": "code",
   "execution_count": 112,
   "metadata": {},
   "outputs": [],
   "source": [
    "import numpy as np\n",
    "import itertools\n",
    "\n",
    "locality_ = list(itertools.chain(*locality))\n",
    "names_ = list(itertools.chain(*names))\n",
    "address_ = list(itertools.chain(*address))\n",
    "category_ = list(itertools.chain(*category))\n",
    "costForTwo_ = list(itertools.chain(*costForTwo))\n",
    "cuisines_ = list(itertools.chain(*cuisines))\n",
    "votes_ = list(itertools.chain(*votes))\n",
    "ratings_ = list(itertools.chain(*ratings))"
   ]
  },
  {
   "cell_type": "markdown",
   "metadata": {},
   "source": [
    "Storing the data into Pandas DataFrame and exporting to a csv file."
   ]
  },
  {
   "cell_type": "code",
   "execution_count": 125,
   "metadata": {},
   "outputs": [],
   "source": [
    "df = pd.DataFrame(data=[locality_,names_,address_,category_,\n",
    "                        costForTwo_,cuisines_,ratings_,votes_])\n",
    "df = df.T\n",
    "columns = ['Locality','RestaurantName','Address',\n",
    "           'Category','CostForTwo','Cuisines','Ratings','votes']\n",
    "df.columns = columns"
   ]
  },
  {
   "cell_type": "code",
   "execution_count": 127,
   "metadata": {},
   "outputs": [],
   "source": [
    "df.to_csv('Restaurants.csv', index=False)"
   ]
  },
  {
   "cell_type": "markdown",
   "metadata": {},
   "source": [
    "# Phase - 3 <a name=\"phase3\">"
   ]
  },
  {
   "cell_type": "code",
   "execution_count": null,
   "metadata": {},
   "outputs": [],
   "source": [
    "# API_KEY = None\n",
    "# with open('/home/hotpie/Projects/keys/API_KEYS.json','r') as keyFile:\n",
    "#     f = json.load(keyFile)\n",
    "    \n",
    "# API_KEY = f['google-api-key']\n",
    "# gmaps = googlemaps.Client(key=API_KEY)"
   ]
  }
 ],
 "metadata": {
  "kernelspec": {
   "display_name": "Python 3",
   "language": "python",
   "name": "python3"
  },
  "language_info": {
   "codemirror_mode": {
    "name": "ipython",
    "version": 3
   },
   "file_extension": ".py",
   "mimetype": "text/x-python",
   "name": "python",
   "nbconvert_exporter": "python",
   "pygments_lexer": "ipython3",
   "version": "3.8.1"
  }
 },
 "nbformat": 4,
 "nbformat_minor": 4
}
