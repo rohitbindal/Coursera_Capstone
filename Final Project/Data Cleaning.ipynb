{
 "cells": [
  {
   "cell_type": "code",
   "execution_count": 1,
   "metadata": {},
   "outputs": [],
   "source": [
    "import pandas as pd\n",
    "import numpy as np\n",
    "import re"
   ]
  },
  {
   "cell_type": "code",
   "execution_count": 2,
   "metadata": {},
   "outputs": [
    {
     "data": {
      "text/html": [
       "<div>\n",
       "<style scoped>\n",
       "    .dataframe tbody tr th:only-of-type {\n",
       "        vertical-align: middle;\n",
       "    }\n",
       "\n",
       "    .dataframe tbody tr th {\n",
       "        vertical-align: top;\n",
       "    }\n",
       "\n",
       "    .dataframe thead th {\n",
       "        text-align: right;\n",
       "    }\n",
       "</style>\n",
       "<table border=\"1\" class=\"dataframe\">\n",
       "  <thead>\n",
       "    <tr style=\"text-align: right;\">\n",
       "      <th></th>\n",
       "      <th>Locality</th>\n",
       "      <th>RestaurantName</th>\n",
       "      <th>Address</th>\n",
       "      <th>Category</th>\n",
       "      <th>CostForTwo</th>\n",
       "      <th>Cuisines</th>\n",
       "      <th>Ratings</th>\n",
       "      <th>votes</th>\n",
       "      <th>Latitude</th>\n",
       "      <th>Longitude</th>\n",
       "    </tr>\n",
       "  </thead>\n",
       "  <tbody>\n",
       "    <tr>\n",
       "      <th>0</th>\n",
       "      <td>C Scheme</td>\n",
       "      <td>Kanha</td>\n",
       "      <td>E 62, Bhagat Singh Marg, C Scheme, Jaipur</td>\n",
       "      <td>['Sweet Shop', 'Quick Bites']</td>\n",
       "      <td>₹500</td>\n",
       "      <td>['North Indian', 'South Indian', 'Fast Food', ...</td>\n",
       "      <td>4.2</td>\n",
       "      <td>995</td>\n",
       "      <td>26.912258</td>\n",
       "      <td>75.800590</td>\n",
       "    </tr>\n",
       "    <tr>\n",
       "      <th>1</th>\n",
       "      <td>C Scheme</td>\n",
       "      <td>Stepout Cafe</td>\n",
       "      <td>P 14, Sehdev Marg, Ashok Nagar, C Scheme, Jaipur</td>\n",
       "      <td>['Café', 'Casual Dining']</td>\n",
       "      <td>₹800</td>\n",
       "      <td>['Cafe', 'Italian', 'Lebanese', 'Mexican', 'Co...</td>\n",
       "      <td>4.5</td>\n",
       "      <td>1385</td>\n",
       "      <td>26.905899</td>\n",
       "      <td>75.802078</td>\n",
       "    </tr>\n",
       "    <tr>\n",
       "      <th>2</th>\n",
       "      <td>C Scheme</td>\n",
       "      <td>Burger Farm</td>\n",
       "      <td>3 &amp; 4, Trimurty, V-Jai City Point Building, Ah...</td>\n",
       "      <td>['Quick Bites']</td>\n",
       "      <td>₹400</td>\n",
       "      <td>['Burger', 'Fast Food', 'Beverages']</td>\n",
       "      <td>4.1</td>\n",
       "      <td>1427</td>\n",
       "      <td>26.914246</td>\n",
       "      <td>75.804930</td>\n",
       "    </tr>\n",
       "    <tr>\n",
       "      <th>3</th>\n",
       "      <td>C Scheme</td>\n",
       "      <td>Domino's Pizza</td>\n",
       "      <td>C 18, Silver Square Mall, Bhagwandas Marg, C S...</td>\n",
       "      <td>['Quick Bites']</td>\n",
       "      <td>₹700</td>\n",
       "      <td>['Pizza', 'Fast Food']</td>\n",
       "      <td>3.3</td>\n",
       "      <td>1258</td>\n",
       "      <td>26.915043</td>\n",
       "      <td>75.809926</td>\n",
       "    </tr>\n",
       "    <tr>\n",
       "      <th>4</th>\n",
       "      <td>C Scheme</td>\n",
       "      <td>Thali and More</td>\n",
       "      <td>C-46 B, Sarojini Marg, Above Punjab National B...</td>\n",
       "      <td>['Casual Dining']</td>\n",
       "      <td>₹1,100</td>\n",
       "      <td>['North Indian', 'South Indian', 'Chinese', 'F...</td>\n",
       "      <td>4.4</td>\n",
       "      <td>2339</td>\n",
       "      <td>26.910926</td>\n",
       "      <td>75.805679</td>\n",
       "    </tr>\n",
       "  </tbody>\n",
       "</table>\n",
       "</div>"
      ],
      "text/plain": [
       "   Locality  RestaurantName  \\\n",
       "0  C Scheme           Kanha   \n",
       "1  C Scheme    Stepout Cafe   \n",
       "2  C Scheme     Burger Farm   \n",
       "3  C Scheme  Domino's Pizza   \n",
       "4  C Scheme  Thali and More   \n",
       "\n",
       "                                             Address  \\\n",
       "0          E 62, Bhagat Singh Marg, C Scheme, Jaipur   \n",
       "1   P 14, Sehdev Marg, Ashok Nagar, C Scheme, Jaipur   \n",
       "2  3 & 4, Trimurty, V-Jai City Point Building, Ah...   \n",
       "3  C 18, Silver Square Mall, Bhagwandas Marg, C S...   \n",
       "4  C-46 B, Sarojini Marg, Above Punjab National B...   \n",
       "\n",
       "                        Category CostForTwo  \\\n",
       "0  ['Sweet Shop', 'Quick Bites']       ₹500   \n",
       "1      ['Café', 'Casual Dining']       ₹800   \n",
       "2                ['Quick Bites']       ₹400   \n",
       "3                ['Quick Bites']       ₹700   \n",
       "4              ['Casual Dining']     ₹1,100   \n",
       "\n",
       "                                            Cuisines Ratings votes   Latitude  \\\n",
       "0  ['North Indian', 'South Indian', 'Fast Food', ...     4.2   995  26.912258   \n",
       "1  ['Cafe', 'Italian', 'Lebanese', 'Mexican', 'Co...     4.5  1385  26.905899   \n",
       "2               ['Burger', 'Fast Food', 'Beverages']     4.1  1427  26.914246   \n",
       "3                             ['Pizza', 'Fast Food']     3.3  1258  26.915043   \n",
       "4  ['North Indian', 'South Indian', 'Chinese', 'F...     4.4  2339  26.910926   \n",
       "\n",
       "   Longitude  \n",
       "0  75.800590  \n",
       "1  75.802078  \n",
       "2  75.804930  \n",
       "3  75.809926  \n",
       "4  75.805679  "
      ]
     },
     "execution_count": 2,
     "metadata": {},
     "output_type": "execute_result"
    }
   ],
   "source": [
    "dataset = pd.read_csv('RestaurantGeocoded.csv')\n",
    "dataset.head()"
   ]
  },
  {
   "cell_type": "code",
   "execution_count": 83,
   "metadata": {},
   "outputs": [
    {
     "name": "stdout",
     "output_type": "stream",
     "text": [
      "<class 'pandas.core.frame.DataFrame'>\n",
      "Int64Index: 4353 entries, 0 to 4353\n",
      "Data columns (total 10 columns):\n",
      " #   Column          Non-Null Count  Dtype  \n",
      "---  ------          --------------  -----  \n",
      " 0   Locality        4353 non-null   object \n",
      " 1   RestaurantName  4353 non-null   object \n",
      " 2   Address         4353 non-null   object \n",
      " 3   Category        4353 non-null   object \n",
      " 4   CostForTwo      4353 non-null   int64  \n",
      " 5   Cuisines        4353 non-null   object \n",
      " 6   Ratings         4341 non-null   object \n",
      " 7   votes           4353 non-null   object \n",
      " 8   Latitude        4278 non-null   float64\n",
      " 9   Longitude       4278 non-null   float64\n",
      "dtypes: float64(2), int64(1), object(7)\n",
      "memory usage: 374.1+ KB\n"
     ]
    }
   ],
   "source": [
    "dataset.info()"
   ]
  },
  {
   "cell_type": "markdown",
   "metadata": {},
   "source": [
    "We need to change the data type for CostForTwo, Ratings, votes from object to int, float, int respectively.  \n",
    "Also, Category and Cuisines are in list format, we need to get the strings out of them."
   ]
  },
  {
   "cell_type": "markdown",
   "metadata": {},
   "source": [
    "First, let's check different values of cost."
   ]
  },
  {
   "cell_type": "code",
   "execution_count": 73,
   "metadata": {},
   "outputs": [
    {
     "data": {
      "text/plain": [
       "₹300              734\n",
       "₹200              532\n",
       "₹400              512\n",
       "₹500              415\n",
       "₹250              345\n",
       "₹150              296\n",
       "₹350              251\n",
       "₹600              220\n",
       "₹100              167\n",
       "₹450              152\n",
       "₹700              113\n",
       "₹800              110\n",
       "₹1,000             75\n",
       "₹550               67\n",
       "₹1,200             51\n",
       "₹900               43\n",
       "₹650               42\n",
       "₹750               32\n",
       "₹1,500             27\n",
       "₹1,100             26\n",
       "₹1,400             20\n",
       "₹1,600             16\n",
       "₹850               15\n",
       "₹2,000             13\n",
       "₹1,300             13\n",
       "₹1,800             11\n",
       "₹3,000              9\n",
       "₹1,700              7\n",
       "₹2,500              6\n",
       "₹950                4\n",
       "₹2,400              3\n",
       "₹4,000              3\n",
       "₹2,100              3\n",
       "₹3,500              3\n",
       "₹2,200              3\n",
       "₹5,000              2\n",
       "₹2,600              2\n",
       "₹6,000              2\n",
       "₹7,000              1\n",
       "₹2,300              1\n",
       "₹1,150              1\n",
       "₹3,200              1\n",
       "₹1,250              1\n",
       "₹2,800              1\n",
       "No Cost given.      1\n",
       "₹4,100              1\n",
       "₹8,000              1\n",
       "Name: CostForTwo, dtype: int64"
      ]
     },
     "execution_count": 73,
     "metadata": {},
     "output_type": "execute_result"
    }
   ],
   "source": [
    "dataset['CostForTwo'].value_counts()"
   ]
  },
  {
   "cell_type": "markdown",
   "metadata": {},
   "source": [
    "No cost given is not a cost, we need to get rid of it."
   ]
  },
  {
   "cell_type": "code",
   "execution_count": 75,
   "metadata": {},
   "outputs": [
    {
     "data": {
      "text/html": [
       "<div>\n",
       "<style scoped>\n",
       "    .dataframe tbody tr th:only-of-type {\n",
       "        vertical-align: middle;\n",
       "    }\n",
       "\n",
       "    .dataframe tbody tr th {\n",
       "        vertical-align: top;\n",
       "    }\n",
       "\n",
       "    .dataframe thead th {\n",
       "        text-align: right;\n",
       "    }\n",
       "</style>\n",
       "<table border=\"1\" class=\"dataframe\">\n",
       "  <thead>\n",
       "    <tr style=\"text-align: right;\">\n",
       "      <th></th>\n",
       "      <th>Locality</th>\n",
       "      <th>RestaurantName</th>\n",
       "      <th>Address</th>\n",
       "      <th>Category</th>\n",
       "      <th>CostForTwo</th>\n",
       "      <th>Cuisines</th>\n",
       "      <th>Ratings</th>\n",
       "      <th>votes</th>\n",
       "      <th>Latitude</th>\n",
       "      <th>Longitude</th>\n",
       "    </tr>\n",
       "  </thead>\n",
       "  <tbody>\n",
       "    <tr>\n",
       "      <th>2231</th>\n",
       "      <td>Mansarovar</td>\n",
       "      <td>Burgs &amp; Fries</td>\n",
       "      <td>Shop 8, Ridhi Sidhi Link Road, Gopal Pura, Man...</td>\n",
       "      <td>[]</td>\n",
       "      <td>No Cost given.</td>\n",
       "      <td>['Fast Food', 'Burger', 'Wraps']</td>\n",
       "      <td>-</td>\n",
       "      <td>No-Votes</td>\n",
       "      <td>26.83875</td>\n",
       "      <td>75.764087</td>\n",
       "    </tr>\n",
       "  </tbody>\n",
       "</table>\n",
       "</div>"
      ],
      "text/plain": [
       "        Locality RestaurantName  \\\n",
       "2231  Mansarovar  Burgs & Fries   \n",
       "\n",
       "                                                Address Category  \\\n",
       "2231  Shop 8, Ridhi Sidhi Link Road, Gopal Pura, Man...       []   \n",
       "\n",
       "          CostForTwo                          Cuisines Ratings     votes  \\\n",
       "2231  No Cost given.  ['Fast Food', 'Burger', 'Wraps']       -  No-Votes   \n",
       "\n",
       "      Latitude  Longitude  \n",
       "2231  26.83875  75.764087  "
      ]
     },
     "execution_count": 75,
     "metadata": {},
     "output_type": "execute_result"
    }
   ],
   "source": [
    "dataset.loc[dataset['CostForTwo']=='No Cost given.']"
   ]
  },
  {
   "cell_type": "markdown",
   "metadata": {},
   "source": [
    "It seems we don't have a category, cost, rating, or votes for this restaurant. With the current amount of data, this tuple is no use to us."
   ]
  },
  {
   "cell_type": "code",
   "execution_count": 77,
   "metadata": {},
   "outputs": [],
   "source": [
    "dataset.drop(2231, inplace=True)"
   ]
  },
  {
   "cell_type": "markdown",
   "metadata": {},
   "source": [
    "With that out of the way, there is no other anomaly in the costs, let's remove the Rupee symbol and comma from the cost and typecast the values to integer.  \n",
    "We will use regular expression to accomplish that."
   ]
  },
  {
   "cell_type": "code",
   "execution_count": 80,
   "metadata": {},
   "outputs": [
    {
     "data": {
      "text/plain": [
       "int"
      ]
     },
     "execution_count": 80,
     "metadata": {},
     "output_type": "execute_result"
    }
   ],
   "source": [
    "cost = dataset['CostForTwo'].values\n",
    "cost = [re.sub(',','',item) for item in cost]\n",
    "cost = [item[1:] for item in cost]\n",
    "cost = [int(item) for item in cost]\n",
    "type(cost[0])"
   ]
  },
  {
   "cell_type": "code",
   "execution_count": 81,
   "metadata": {},
   "outputs": [],
   "source": [
    "dataset['CostForTwo'] = cost"
   ]
  },
  {
   "cell_type": "code",
   "execution_count": 82,
   "metadata": {},
   "outputs": [
    {
     "name": "stdout",
     "output_type": "stream",
     "text": [
      "<class 'pandas.core.frame.DataFrame'>\n",
      "Int64Index: 4353 entries, 0 to 4353\n",
      "Data columns (total 10 columns):\n",
      " #   Column          Non-Null Count  Dtype  \n",
      "---  ------          --------------  -----  \n",
      " 0   Locality        4353 non-null   object \n",
      " 1   RestaurantName  4353 non-null   object \n",
      " 2   Address         4353 non-null   object \n",
      " 3   Category        4353 non-null   object \n",
      " 4   CostForTwo      4353 non-null   int64  \n",
      " 5   Cuisines        4353 non-null   object \n",
      " 6   Ratings         4341 non-null   object \n",
      " 7   votes           4353 non-null   object \n",
      " 8   Latitude        4278 non-null   float64\n",
      " 9   Longitude       4278 non-null   float64\n",
      "dtypes: float64(2), int64(1), object(7)\n",
      "memory usage: 374.1+ KB\n"
     ]
    }
   ],
   "source": [
    "dataset.info()"
   ]
  }
 ],
 "metadata": {
  "kernelspec": {
   "display_name": "Python 3",
   "language": "python",
   "name": "python3"
  },
  "language_info": {
   "codemirror_mode": {
    "name": "ipython",
    "version": 3
   },
   "file_extension": ".py",
   "mimetype": "text/x-python",
   "name": "python",
   "nbconvert_exporter": "python",
   "pygments_lexer": "ipython3",
   "version": "3.8.1"
  }
 },
 "nbformat": 4,
 "nbformat_minor": 4
}
